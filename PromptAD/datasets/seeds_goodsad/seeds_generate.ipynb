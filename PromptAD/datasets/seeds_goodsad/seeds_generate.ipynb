{
 "cells": [
  {
   "cell_type": "code",
   "execution_count": 2,
   "id": "3b60264c-f406-4f0b-97ed-425d7d3b12b9",
   "metadata": {},
   "outputs": [],
   "source": [
    "goodsad_classes = ['cigarette_box', 'drink_bottle', \n",
    "                   'drink_can', 'food_bottle', \n",
    "                   'food_box', 'food_package']"
   ]
  },
  {
   "cell_type": "code",
   "execution_count": 9,
   "id": "9a97144f-06f2-425c-b7f4-fff9e8ff220c",
   "metadata": {},
   "outputs": [
    {
     "name": "stdout",
     "output_type": "stream",
     "text": [
      "cigarette_box\n",
      "#1: 103_001 \n",
      "#4: 006_002 001_000 017_000 015_000 \n",
      "#8: 049_002 044_000 006_000 110_003 036_000 005_000 091_001 026_002 \n",
      "drink_bottle\n",
      "#1: 004_006 \n",
      "#4: 004_004 016_008 030_014 033_006 \n",
      "#8: 088_020 087_013 013_006 086_009 028_004 097_019 094_006 097_004 \n",
      "drink_can\n",
      "#1: 020_003 \n",
      "#4: 024_017 005_001 015_011 026_003 \n",
      "#8: 023_003 059_004 067_001 017_006 053_002 059_002 002_017 045_002 \n",
      "food_bottle\n",
      "#1: 022_005 \n",
      "#4: 017_017 014_012 009_001 011_013 \n",
      "#8: 054_013 035_003 017_013 003_013 003_008 019_017 007_006 018_014 \n",
      "food_box\n",
      "#1: 024_006 \n",
      "#4: 050_001 011_004 064_005 002_006 \n",
      "#8: 059_005 033_004 037_002 015_001 028_003 004_005 037_010 020_005 \n",
      "food_package\n",
      "#1: 062_008 \n",
      "#4: 033_004 018_005 004_005 039_005 \n",
      "#8: 050_002 019_004 040_004 021_003 065_006 048_002 079_002 063_002 \n"
     ]
    }
   ],
   "source": [
    "import os\n",
    "import random\n",
    "# 指定要遍历的文件夹路径\n",
    "random.seed(42)\n",
    "for class_name in goodsad_classes:\n",
    "    folder_path = f\"datasets/GoodsAD/{class_name}/train/good/\"\n",
    "    print(class_name)\n",
    "    filenames = []\n",
    "    # 遍历文件夹中的所有文件\n",
    "    for filename in os.listdir(folder_path):  \n",
    "        filenames.append(filename.split(\".\")[0])\n",
    "    for j in [1, 4, 8]:\n",
    "        b_str = f'#{j}: '\n",
    "        lis = random.sample(filenames, j)\n",
    "        res =''\n",
    "        for i in lis:\n",
    "            res=res +i +' '\n",
    "        print(b_str + res)"
   ]
  },
  {
   "cell_type": "code",
   "execution_count": 7,
   "id": "1bd09caf-ca2e-438d-bb6d-b418d2899035",
   "metadata": {},
   "outputs": [
    {
     "name": "stdout",
     "output_type": "stream",
     "text": [
      "cigarette_box\n",
      "#32: 104_001 042_002 032_000 053_000 051_000 014_000 008_002 042_000 111_001 081_001 041_000 092_001 066_001 033_000 001_002 005_002 013_002 014_002 076_001 095_001 115_001 084_001 048_000 111_003 026_002 049_002 069_001 091_001 017_002 000_000 045_002 109_003 \n",
      "drink_bottle\n",
      "#32: 054_013 039_010 020_004 030_012 054_009 016_013 016_008 058_009 008_002 056_006 054_017 087_015 038_000 014_022 067_003 089_012 018_001 058_007 016_001 090_003 040_009 093_001 092_007 057_001 090_016 026_006 097_008 004_049 014_023 095_003 032_006 040_005 \n",
      "drink_can\n",
      "#32: 021_001 065_003 005_005 067_001 002_010 013_001 008_001 025_003 026_016 063_002 012_003 002_018 024_011 024_009 004_005 042_001 023_001 046_001 043_003 026_019 020_011 026_009 069_004 002_019 020_007 049_003 022_001 068_001 025_004 071_002 007_005 026_017 \n",
      "food_bottle\n",
      "#32: 046_006 037_000 011_018 046_003 017_002 043_015 035_006 035_013 002_009 012_006 043_004 005_013 037_006 016_012 021_001 014_003 002_014 011_010 051_007 053_009 039_001 044_012 048_004 016_011 011_011 033_012 026_003 020_015 045_002 051_008 032_019 024_006 \n",
      "food_box\n",
      "#32: 006_003 019_007 006_002 011_005 060_006 038_004 037_004 012_001 060_007 039_004 031_001 039_003 029_010 026_006 018_005 015_005 036_001 035_005 013_011 061_003 012_009 014_005 015_009 051_010 007_002 063_006 054_008 030_010 049_002 013_004 029_003 029_001 \n",
      "food_package\n",
      "#32: 081_006 043_006 001_006 010_005 046_004 059_001 022_003 051_001 076_003 027_006 079_003 001_002 045_006 087_003 031_003 089_002 021_006 051_006 034_006 027_001 064_006 028_004 011_002 056_002 085_003 002_004 063_001 053_003 041_006 005_006 042_001 019_004 \n"
     ]
    }
   ],
   "source": [
    "import os\n",
    "import random\n",
    "# 指定要遍历的文件夹路径\n",
    "random.seed(42)\n",
    "for class_name in goodsad_classes:\n",
    "    folder_path = f\"datasets/GoodsAD/{class_name}/train/good/\"\n",
    "    print(class_name)\n",
    "    filenames = []\n",
    "    # 遍历文件夹中的所有文件\n",
    "    for filename in os.listdir(folder_path):  \n",
    "        filenames.append(filename.split(\".\")[0])\n",
    "    for j in [32]:\n",
    "        b_str = f'#{j}: '\n",
    "        lis = random.sample(filenames, j)\n",
    "        res =''\n",
    "        for i in lis:\n",
    "            res=res +i +' '\n",
    "        print(b_str + res)"
   ]
  },
  {
   "cell_type": "code",
   "execution_count": null,
   "id": "8206dc18-20b2-4e4d-aa99-35e340b5b2bc",
   "metadata": {},
   "outputs": [],
   "source": []
  }
 ],
 "metadata": {
  "kernelspec": {
   "display_name": "Python 3 (ipykernel)",
   "language": "python",
   "name": "python3"
  },
  "language_info": {
   "codemirror_mode": {
    "name": "ipython",
    "version": 3
   },
   "file_extension": ".py",
   "mimetype": "text/x-python",
   "name": "python",
   "nbconvert_exporter": "python",
   "pygments_lexer": "ipython3",
   "version": "3.8.10"
  }
 },
 "nbformat": 4,
 "nbformat_minor": 5
}
